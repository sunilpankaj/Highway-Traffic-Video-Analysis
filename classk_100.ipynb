{
 "cells": [
  {
   "cell_type": "code",
   "execution_count": 164,
   "metadata": {
    "collapsed": false
   },
   "outputs": [],
   "source": [
    "#importing important libraries and machine learning sk-learn algorithms.\n",
    "%matplotlib inline\n",
    "import numpy as np\n",
    "import cv2\n",
    "import cv\n",
    "import matplotlib.pyplot as plt\n",
    "import pandas as pd \n",
    "import seaborn as sn\n",
    "from sklearn import metrics\n",
    "from sklearn.cross_validation import KFold\n",
    "from sklearn.cross_validation import cross_val_score\n",
    "from sklearn.metrics import accuracy_score\n",
    "from sklearn.cross_validation import train_test_split\n",
    "from sklearn.grid_search import GridSearchCV\n",
    "from sklearn.metrics import confusion_matrix\n",
    "from sklearn import svm\n",
    "from sklearn.ensemble import RandomForestClassifier\n",
    "from sklearn.ensemble import AdaBoostClassifier\n",
    "from sklearn.ensemble import ExtraTreesClassifier"
   ]
  },
  {
   "cell_type": "code",
   "execution_count": 157,
   "metadata": {
    "collapsed": false
   },
   "outputs": [
    {
     "data": {
      "text/plain": [
       "(227, 101)"
      ]
     },
     "execution_count": 157,
     "metadata": {},
     "output_type": "execute_result"
    }
   ],
   "source": [
    "#reading heavy images features scv file\n",
    "df_heavy = pd.read_csv(\"k-100/hist_heavy.csv\")\n",
    "df_heavy.shape"
   ]
  },
  {
   "cell_type": "code",
   "execution_count": 158,
   "metadata": {
    "collapsed": false
   },
   "outputs": [
    {
     "data": {
      "text/plain": [
       "(219, 101)"
      ]
     },
     "execution_count": 158,
     "metadata": {},
     "output_type": "execute_result"
    }
   ],
   "source": [
    "#reading medium images features scv file\n",
    "df_medium = pd.read_csv(\"k-100/hist_medium.csv\")\n",
    "df_medium.shape"
   ]
  },
  {
   "cell_type": "code",
   "execution_count": 9,
   "metadata": {
    "collapsed": false
   },
   "outputs": [
    {
     "data": {
      "text/plain": [
       "(853, 101)"
      ]
     },
     "execution_count": 9,
     "metadata": {},
     "output_type": "execute_result"
    }
   ],
   "source": [
    "#reading light images features scv file\n",
    "df_light = pd.read_csv(\"k-100/hist_light.csv\")\n",
    "df_light.shape"
   ]
  },
  {
   "cell_type": "code",
   "execution_count": 10,
   "metadata": {
    "collapsed": true
   },
   "outputs": [],
   "source": [
    "#now concat all three class csv files \n",
    "df = pd.concat([df_light,df_medium,df_heavy],ignore_index=True)"
   ]
  },
  {
   "cell_type": "code",
   "execution_count": 12,
   "metadata": {
    "collapsed": true
   },
   "outputs": [],
   "source": [
    "#all data will be in form of heavy, medium ,lights so we have to suffle all data,\n",
    "#so that all rows get in random order.\n",
    "data = df.iloc[np.random.permutation(len(df))]"
   ]
  },
  {
   "cell_type": "code",
   "execution_count": 13,
   "metadata": {
    "collapsed": false
   },
   "outputs": [
    {
     "data": {
      "text/html": [
       "<div style=\"max-height:1000px;max-width:1500px;overflow:auto;\">\n",
       "<table border=\"1\" class=\"dataframe\">\n",
       "  <thead>\n",
       "    <tr style=\"text-align: right;\">\n",
       "      <th></th>\n",
       "      <th>f1</th>\n",
       "      <th>f2</th>\n",
       "      <th>f3</th>\n",
       "      <th>f4</th>\n",
       "      <th>f5</th>\n",
       "      <th>f6</th>\n",
       "      <th>f7</th>\n",
       "      <th>f8</th>\n",
       "      <th>f9</th>\n",
       "      <th>f10</th>\n",
       "      <th>f11</th>\n",
       "      <th>f12</th>\n",
       "      <th>f13</th>\n",
       "      <th>f14</th>\n",
       "      <th>f15</th>\n",
       "      <th>f16</th>\n",
       "      <th>f17</th>\n",
       "      <th>f18</th>\n",
       "      <th>f19</th>\n",
       "      <th>f20</th>\n",
       "      <th></th>\n",
       "    </tr>\n",
       "  </thead>\n",
       "  <tbody>\n",
       "    <tr>\n",
       "      <th>378 </th>\n",
       "      <td> 0.003571</td>\n",
       "      <td> 0.005357</td>\n",
       "      <td> 0.016071</td>\n",
       "      <td> 0.008929</td>\n",
       "      <td> 0.028571</td>\n",
       "      <td> 0.007143</td>\n",
       "      <td> 0.010714</td>\n",
       "      <td> 0.008929</td>\n",
       "      <td> 0.008929</td>\n",
       "      <td> 0.007143</td>\n",
       "      <td> 0.007143</td>\n",
       "      <td> 0.001786</td>\n",
       "      <td> 0.000000</td>\n",
       "      <td> 0.007143</td>\n",
       "      <td> 0.005357</td>\n",
       "      <td> 0.012500</td>\n",
       "      <td> 0.019643</td>\n",
       "      <td> 0.007143</td>\n",
       "      <td> 0.008929</td>\n",
       "      <td> 0.003571</td>\n",
       "      <td>...</td>\n",
       "    </tr>\n",
       "    <tr>\n",
       "      <th>1238</th>\n",
       "      <td> 0.006579</td>\n",
       "      <td> 0.006579</td>\n",
       "      <td> 0.006579</td>\n",
       "      <td> 0.002193</td>\n",
       "      <td> 0.010965</td>\n",
       "      <td> 0.006579</td>\n",
       "      <td> 0.008772</td>\n",
       "      <td> 0.017544</td>\n",
       "      <td> 0.000000</td>\n",
       "      <td> 0.008772</td>\n",
       "      <td> 0.013158</td>\n",
       "      <td> 0.015351</td>\n",
       "      <td> 0.000000</td>\n",
       "      <td> 0.006579</td>\n",
       "      <td> 0.006579</td>\n",
       "      <td> 0.010965</td>\n",
       "      <td> 0.002193</td>\n",
       "      <td> 0.004386</td>\n",
       "      <td> 0.015351</td>\n",
       "      <td> 0.002193</td>\n",
       "      <td>...</td>\n",
       "    </tr>\n",
       "    <tr>\n",
       "      <th>385 </th>\n",
       "      <td> 0.005038</td>\n",
       "      <td> 0.005038</td>\n",
       "      <td> 0.005038</td>\n",
       "      <td> 0.012594</td>\n",
       "      <td> 0.027708</td>\n",
       "      <td> 0.007557</td>\n",
       "      <td> 0.002519</td>\n",
       "      <td> 0.007557</td>\n",
       "      <td> 0.005038</td>\n",
       "      <td> 0.007557</td>\n",
       "      <td> 0.007557</td>\n",
       "      <td> 0.002519</td>\n",
       "      <td> 0.005038</td>\n",
       "      <td> 0.007557</td>\n",
       "      <td> 0.012594</td>\n",
       "      <td> 0.005038</td>\n",
       "      <td> 0.025189</td>\n",
       "      <td> 0.007557</td>\n",
       "      <td> 0.012594</td>\n",
       "      <td> 0.007557</td>\n",
       "      <td>...</td>\n",
       "    </tr>\n",
       "    <tr>\n",
       "      <th>823 </th>\n",
       "      <td> 0.005025</td>\n",
       "      <td> 0.012563</td>\n",
       "      <td> 0.015075</td>\n",
       "      <td> 0.012563</td>\n",
       "      <td> 0.002513</td>\n",
       "      <td> 0.010050</td>\n",
       "      <td> 0.005025</td>\n",
       "      <td> 0.010050</td>\n",
       "      <td> 0.010050</td>\n",
       "      <td> 0.007538</td>\n",
       "      <td> 0.010050</td>\n",
       "      <td> 0.010050</td>\n",
       "      <td> 0.002513</td>\n",
       "      <td> 0.010050</td>\n",
       "      <td> 0.020101</td>\n",
       "      <td> 0.005025</td>\n",
       "      <td> 0.015075</td>\n",
       "      <td> 0.017588</td>\n",
       "      <td> 0.015075</td>\n",
       "      <td> 0.005025</td>\n",
       "      <td>...</td>\n",
       "    </tr>\n",
       "    <tr>\n",
       "      <th>10  </th>\n",
       "      <td> 0.007663</td>\n",
       "      <td> 0.015326</td>\n",
       "      <td> 0.003831</td>\n",
       "      <td> 0.011494</td>\n",
       "      <td> 0.026820</td>\n",
       "      <td> 0.007663</td>\n",
       "      <td> 0.007663</td>\n",
       "      <td> 0.003831</td>\n",
       "      <td> 0.003831</td>\n",
       "      <td> 0.000000</td>\n",
       "      <td> 0.011494</td>\n",
       "      <td> 0.007663</td>\n",
       "      <td> 0.000000</td>\n",
       "      <td> 0.000000</td>\n",
       "      <td> 0.011494</td>\n",
       "      <td> 0.011494</td>\n",
       "      <td> 0.015326</td>\n",
       "      <td> 0.003831</td>\n",
       "      <td> 0.007663</td>\n",
       "      <td> 0.007663</td>\n",
       "      <td>...</td>\n",
       "    </tr>\n",
       "  </tbody>\n",
       "</table>\n",
       "<p>5 rows × 101 columns</p>\n",
       "</div>"
      ],
      "text/plain": [
       "            f1        f2        f3        f4        f5        f6        f7  \\\n",
       "378   0.003571  0.005357  0.016071  0.008929  0.028571  0.007143  0.010714   \n",
       "1238  0.006579  0.006579  0.006579  0.002193  0.010965  0.006579  0.008772   \n",
       "385   0.005038  0.005038  0.005038  0.012594  0.027708  0.007557  0.002519   \n",
       "823   0.005025  0.012563  0.015075  0.012563  0.002513  0.010050  0.005025   \n",
       "10    0.007663  0.015326  0.003831  0.011494  0.026820  0.007663  0.007663   \n",
       "\n",
       "            f8        f9       f10       f11       f12       f13       f14  \\\n",
       "378   0.008929  0.008929  0.007143  0.007143  0.001786  0.000000  0.007143   \n",
       "1238  0.017544  0.000000  0.008772  0.013158  0.015351  0.000000  0.006579   \n",
       "385   0.007557  0.005038  0.007557  0.007557  0.002519  0.005038  0.007557   \n",
       "823   0.010050  0.010050  0.007538  0.010050  0.010050  0.002513  0.010050   \n",
       "10    0.003831  0.003831  0.000000  0.011494  0.007663  0.000000  0.000000   \n",
       "\n",
       "           f15       f16       f17       f18       f19       f20      \n",
       "378   0.005357  0.012500  0.019643  0.007143  0.008929  0.003571 ...  \n",
       "1238  0.006579  0.010965  0.002193  0.004386  0.015351  0.002193 ...  \n",
       "385   0.012594  0.005038  0.025189  0.007557  0.012594  0.007557 ...  \n",
       "823   0.020101  0.005025  0.015075  0.017588  0.015075  0.005025 ...  \n",
       "10    0.011494  0.011494  0.015326  0.003831  0.007663  0.007663 ...  \n",
       "\n",
       "[5 rows x 101 columns]"
      ]
     },
     "execution_count": 13,
     "metadata": {},
     "output_type": "execute_result"
    }
   ],
   "source": [
    "#print last 5 rows\n",
    "data.tail()"
   ]
  },
  {
   "cell_type": "code",
   "execution_count": 14,
   "metadata": {
    "collapsed": false
   },
   "outputs": [
    {
     "data": {
      "text/html": [
       "<div style=\"max-height:1000px;max-width:1500px;overflow:auto;\">\n",
       "<table border=\"1\" class=\"dataframe\">\n",
       "  <thead>\n",
       "    <tr style=\"text-align: right;\">\n",
       "      <th></th>\n",
       "      <th>f1</th>\n",
       "      <th>f2</th>\n",
       "      <th>f3</th>\n",
       "      <th>f4</th>\n",
       "      <th>f5</th>\n",
       "      <th>f6</th>\n",
       "      <th>f7</th>\n",
       "      <th>f8</th>\n",
       "      <th>f9</th>\n",
       "      <th>f10</th>\n",
       "      <th>f11</th>\n",
       "      <th>f12</th>\n",
       "      <th>f13</th>\n",
       "      <th>f14</th>\n",
       "      <th>f15</th>\n",
       "      <th>f16</th>\n",
       "      <th>f17</th>\n",
       "      <th>f18</th>\n",
       "      <th>f19</th>\n",
       "      <th>f20</th>\n",
       "      <th></th>\n",
       "    </tr>\n",
       "  </thead>\n",
       "  <tbody>\n",
       "    <tr>\n",
       "      <th>1052</th>\n",
       "      <td> 0.007364</td>\n",
       "      <td> 0.008837</td>\n",
       "      <td> 0.014728</td>\n",
       "      <td> 0.005891</td>\n",
       "      <td> 0.016200</td>\n",
       "      <td> 0.013255</td>\n",
       "      <td> 0.004418</td>\n",
       "      <td> 0.010309</td>\n",
       "      <td> 0.016200</td>\n",
       "      <td> 0.007364</td>\n",
       "      <td> 0.007364</td>\n",
       "      <td> 0.011782</td>\n",
       "      <td> 0.002946</td>\n",
       "      <td> 0.019146</td>\n",
       "      <td> 0.017673</td>\n",
       "      <td> 0.005891</td>\n",
       "      <td> 0.011782</td>\n",
       "      <td> 0.008837</td>\n",
       "      <td> 0.019146</td>\n",
       "      <td> 0.002946</td>\n",
       "      <td>...</td>\n",
       "    </tr>\n",
       "    <tr>\n",
       "      <th>661 </th>\n",
       "      <td> 0.003861</td>\n",
       "      <td> 0.011583</td>\n",
       "      <td> 0.007722</td>\n",
       "      <td> 0.003861</td>\n",
       "      <td> 0.003861</td>\n",
       "      <td> 0.011583</td>\n",
       "      <td> 0.007722</td>\n",
       "      <td> 0.003861</td>\n",
       "      <td> 0.000000</td>\n",
       "      <td> 0.011583</td>\n",
       "      <td> 0.007722</td>\n",
       "      <td> 0.003861</td>\n",
       "      <td> 0.003861</td>\n",
       "      <td> 0.015444</td>\n",
       "      <td> 0.011583</td>\n",
       "      <td> 0.011583</td>\n",
       "      <td> 0.000000</td>\n",
       "      <td> 0.003861</td>\n",
       "      <td> 0.015444</td>\n",
       "      <td> 0.007722</td>\n",
       "      <td>...</td>\n",
       "    </tr>\n",
       "    <tr>\n",
       "      <th>548 </th>\n",
       "      <td> 0.005396</td>\n",
       "      <td> 0.005396</td>\n",
       "      <td> 0.044964</td>\n",
       "      <td> 0.008993</td>\n",
       "      <td> 0.028777</td>\n",
       "      <td> 0.008993</td>\n",
       "      <td> 0.003597</td>\n",
       "      <td> 0.008993</td>\n",
       "      <td> 0.000000</td>\n",
       "      <td> 0.012590</td>\n",
       "      <td> 0.003597</td>\n",
       "      <td> 0.003597</td>\n",
       "      <td> 0.000000</td>\n",
       "      <td> 0.005396</td>\n",
       "      <td> 0.012590</td>\n",
       "      <td> 0.003597</td>\n",
       "      <td> 0.017986</td>\n",
       "      <td> 0.012590</td>\n",
       "      <td> 0.012590</td>\n",
       "      <td> 0.001799</td>\n",
       "      <td>...</td>\n",
       "    </tr>\n",
       "    <tr>\n",
       "      <th>124 </th>\n",
       "      <td> 0.009950</td>\n",
       "      <td> 0.002488</td>\n",
       "      <td> 0.022388</td>\n",
       "      <td> 0.007463</td>\n",
       "      <td> 0.039801</td>\n",
       "      <td> 0.009950</td>\n",
       "      <td> 0.004975</td>\n",
       "      <td> 0.012438</td>\n",
       "      <td> 0.004975</td>\n",
       "      <td> 0.004975</td>\n",
       "      <td> 0.004975</td>\n",
       "      <td> 0.000000</td>\n",
       "      <td> 0.002488</td>\n",
       "      <td> 0.017413</td>\n",
       "      <td> 0.007463</td>\n",
       "      <td> 0.002488</td>\n",
       "      <td> 0.039801</td>\n",
       "      <td> 0.007463</td>\n",
       "      <td> 0.009950</td>\n",
       "      <td> 0.009950</td>\n",
       "      <td>...</td>\n",
       "    </tr>\n",
       "    <tr>\n",
       "      <th>909 </th>\n",
       "      <td> 0.009671</td>\n",
       "      <td> 0.009671</td>\n",
       "      <td> 0.029013</td>\n",
       "      <td> 0.005803</td>\n",
       "      <td> 0.023211</td>\n",
       "      <td> 0.005803</td>\n",
       "      <td> 0.001934</td>\n",
       "      <td> 0.021277</td>\n",
       "      <td> 0.017408</td>\n",
       "      <td> 0.005803</td>\n",
       "      <td> 0.009671</td>\n",
       "      <td> 0.015474</td>\n",
       "      <td> 0.003868</td>\n",
       "      <td> 0.021277</td>\n",
       "      <td> 0.007737</td>\n",
       "      <td> 0.013540</td>\n",
       "      <td> 0.023211</td>\n",
       "      <td> 0.013540</td>\n",
       "      <td> 0.005803</td>\n",
       "      <td> 0.005803</td>\n",
       "      <td>...</td>\n",
       "    </tr>\n",
       "  </tbody>\n",
       "</table>\n",
       "<p>5 rows × 101 columns</p>\n",
       "</div>"
      ],
      "text/plain": [
       "            f1        f2        f3        f4        f5        f6        f7  \\\n",
       "1052  0.007364  0.008837  0.014728  0.005891  0.016200  0.013255  0.004418   \n",
       "661   0.003861  0.011583  0.007722  0.003861  0.003861  0.011583  0.007722   \n",
       "548   0.005396  0.005396  0.044964  0.008993  0.028777  0.008993  0.003597   \n",
       "124   0.009950  0.002488  0.022388  0.007463  0.039801  0.009950  0.004975   \n",
       "909   0.009671  0.009671  0.029013  0.005803  0.023211  0.005803  0.001934   \n",
       "\n",
       "            f8        f9       f10       f11       f12       f13       f14  \\\n",
       "1052  0.010309  0.016200  0.007364  0.007364  0.011782  0.002946  0.019146   \n",
       "661   0.003861  0.000000  0.011583  0.007722  0.003861  0.003861  0.015444   \n",
       "548   0.008993  0.000000  0.012590  0.003597  0.003597  0.000000  0.005396   \n",
       "124   0.012438  0.004975  0.004975  0.004975  0.000000  0.002488  0.017413   \n",
       "909   0.021277  0.017408  0.005803  0.009671  0.015474  0.003868  0.021277   \n",
       "\n",
       "           f15       f16       f17       f18       f19       f20      \n",
       "1052  0.017673  0.005891  0.011782  0.008837  0.019146  0.002946 ...  \n",
       "661   0.011583  0.011583  0.000000  0.003861  0.015444  0.007722 ...  \n",
       "548   0.012590  0.003597  0.017986  0.012590  0.012590  0.001799 ...  \n",
       "124   0.007463  0.002488  0.039801  0.007463  0.009950  0.009950 ...  \n",
       "909   0.007737  0.013540  0.023211  0.013540  0.005803  0.005803 ...  \n",
       "\n",
       "[5 rows x 101 columns]"
      ]
     },
     "execution_count": 14,
     "metadata": {},
     "output_type": "execute_result"
    }
   ],
   "source": [
    "# printing top 5 rows\n",
    "data.head()"
   ]
  },
  {
   "cell_type": "code",
   "execution_count": 15,
   "metadata": {
    "collapsed": false
   },
   "outputs": [],
   "source": [
    "X  = data.ix[:,data.columns != 'label'].values # all features or input \n",
    "y = data['label'].values # all target or accutal output"
   ]
  },
  {
   "cell_type": "code",
   "execution_count": 31,
   "metadata": {
    "collapsed": false
   },
   "outputs": [
    {
     "name": "stdout",
     "output_type": "stream",
     "text": [
      "size of train data =  (1039, 100) size of test data =  (260, 100)\n",
      "size of target train data =  (1039,) size of target test data =  (260,)\n"
     ]
    }
   ],
   "source": [
    "#spliting data into train 80% and test 20%\n",
    "X_train, X_test, y_train, y_test = train_test_split(X, y, test_size=0.2, random_state=3)\n",
    "print \"size of train data = \", X_train.shape,\"size of test data = \", X_test.shape\n",
    "print \"size of target train data = \", y_train.shape, \"size of target test data = \",y_test.shape"
   ]
  },
  {
   "cell_type": "markdown",
   "metadata": {},
   "source": [
    "# SVM Classifier"
   ]
  },
  {
   "cell_type": "code",
   "execution_count": 67,
   "metadata": {
    "collapsed": false
   },
   "outputs": [
    {
     "name": "stdout",
     "output_type": "stream",
     "text": [
      "SVC(C=1.0, cache_size=200, class_weight=None, coef0=0.0, degree=3, gamma=0.0,\n",
      "  kernel=poly, max_iter=-1, probability=False, random_state=None,\n",
      "  shrinking=True, tol=0.001, verbose=False)\n"
     ]
    }
   ],
   "source": [
    "clf = svm.SVC(kernel='poly')\n",
    "print clf\n",
    "cl = clf.fit(X_train, y_train)\n",
    "y_pred = cl.predict(X_test)"
   ]
  },
  {
   "cell_type": "code",
   "execution_count": 68,
   "metadata": {
    "collapsed": false
   },
   "outputs": [
    {
     "name": "stdout",
     "output_type": "stream",
     "text": [
      "0.688461538462\n"
     ]
    }
   ],
   "source": [
    "score = accuracy_score(y_test, y_pred)\n",
    "print score"
   ]
  },
  {
   "cell_type": "markdown",
   "metadata": {},
   "source": [
    "# Random Forest Classifier"
   ]
  },
  {
   "cell_type": "code",
   "execution_count": 35,
   "metadata": {
    "collapsed": false
   },
   "outputs": [
    {
     "name": "stdout",
     "output_type": "stream",
     "text": [
      "0.884615384615\n"
     ]
    }
   ],
   "source": [
    "clf = RandomForestClassifier()\n",
    "cl = clf.fit(X_train, y_train)\n",
    "y_pred = cl.predict(X_test)\n",
    "score = accuracy_score(y_test, y_pred)\n",
    "print score"
   ]
  },
  {
   "cell_type": "markdown",
   "metadata": {},
   "source": [
    "# AdaBoost Classifier"
   ]
  },
  {
   "cell_type": "code",
   "execution_count": 72,
   "metadata": {
    "collapsed": false
   },
   "outputs": [
    {
     "name": "stdout",
     "output_type": "stream",
     "text": [
      "0.907692307692\n"
     ]
    }
   ],
   "source": [
    "clf = AdaBoostClassifier(n_estimators=30)\n",
    "cl = clf.fit(X_train, y_train)\n",
    "y_pred = cl.predict(X_test)\n",
    "score = accuracy_score(y_test, y_pred)\n",
    "print score"
   ]
  },
  {
   "cell_type": "markdown",
   "metadata": {},
   "source": [
    "# ExtraTree Classifier"
   ]
  },
  {
   "cell_type": "code",
   "execution_count": 101,
   "metadata": {
    "collapsed": false
   },
   "outputs": [
    {
     "name": "stdout",
     "output_type": "stream",
     "text": [
      "0.953846153846\n"
     ]
    }
   ],
   "source": [
    "clf = ExtraTreesClassifier(n_estimators = 340)\n",
    "cl = clf.fit(X_train, y_train)\n",
    "y_pred1 = cl.predict(X_test)\n",
    "score1 = accuracy_score(y_test, y_pred1)\n",
    "print score1"
   ]
  },
  {
   "cell_type": "markdown",
   "metadata": {},
   "source": [
    "# Metrix Classification Report"
   ]
  },
  {
   "cell_type": "code",
   "execution_count": 102,
   "metadata": {
    "collapsed": false
   },
   "outputs": [
    {
     "name": "stdout",
     "output_type": "stream",
     "text": [
      "             precision    recall  f1-score   support\n",
      "\n",
      "          0       0.97      1.00      0.98       179\n",
      "          1       0.88      0.84      0.86        44\n",
      "          2       0.97      0.86      0.91        37\n",
      "\n",
      "avg / total       0.95      0.95      0.95       260\n",
      "\n"
     ]
    }
   ],
   "source": [
    "print metrics.classification_report(y_test, y_pred1)"
   ]
  },
  {
   "cell_type": "code",
   "execution_count": 126,
   "metadata": {
    "collapsed": false
   },
   "outputs": [
    {
     "name": "stdout",
     "output_type": "stream",
     "text": [
      "[[179   0   0]\n",
      " [  6  37   1]\n",
      " [  0   5  32]]\n"
     ]
    }
   ],
   "source": [
    "#confusion matrix\n",
    "cm = confusion_matrix(y_test, y_pred1)\n",
    "print cm"
   ]
  },
  {
   "cell_type": "markdown",
   "metadata": {},
   "source": [
    "# Plot Confusion matrix "
   ]
  },
  {
   "cell_type": "code",
   "execution_count": 167,
   "metadata": {
    "collapsed": false
   },
   "outputs": [
    {
     "data": {
      "text/plain": [
       "<matplotlib.axes.AxesSubplot at 0x7fdd5bd29590>"
      ]
     },
     "execution_count": 167,
     "metadata": {},
     "output_type": "execute_result"
    },
    {
     "data": {
      "image/png": "[encoded data removed]",
      "text/plain": [
       "<matplotlib.figure.Figure at 0x7fdd5bb7ee90>"
      ]
     },
     "metadata": {},
     "output_type": "display_data"
    }
   ],
   "source": [
    "df_cm = pd.DataFrame(cm, index = [i for i in ['Light','Medium','Heavy']],\n",
    "                  columns = [i for i in ['Light','Medium','Heavy']])\n",
    "plt.figure(figsize = (10,7))\n",
    "plt.title(\"Confusion Matrix\")\n",
    "sn.heatmap(df_cm, annot=True)"
   ]
  },
  {
   "cell_type": "code",
   "execution_count": 166,
   "metadata": {
    "collapsed": false
   },
   "outputs": [
    {
     "name": "stdout",
     "output_type": "stream",
     "text": [
      "0.929183064997\n"
     ]
    }
   ],
   "source": [
    "clf = ExtraTreesClassifier(n_estimators = 340)\n",
    "print(cross_val_score(clf, X, y, cv=10, scoring='accuracy').mean())"
   ]
  },
  {
   "cell_type": "code",
   "execution_count": null,
   "metadata": {
    "collapsed": true
   },
   "outputs": [],
   "source": []
  }
 ],
 "metadata": {
  "kernelspec": {
   "display_name": "Python 2",
   "language": "python",
   "name": "python2"
  },
  "language_info": {
   "codemirror_mode": {
    "name": "ipython",
    "version": 2
   },
   "file_extension": ".py",
   "mimetype": "text/x-python",
   "name": "python",
   "nbconvert_exporter": "python",
   "pygments_lexer": "ipython2",
   "version": "2.7.6"
  }
 },
 "nbformat": 4,
 "nbformat_minor": 1
}
