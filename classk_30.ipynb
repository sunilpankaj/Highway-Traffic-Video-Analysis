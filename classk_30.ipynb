{
 "cells": [
  {
   "cell_type": "code",
   "execution_count": 24,
   "metadata": {
    "collapsed": true
   },
   "outputs": [],
   "source": [
    "import numpy as np\n",
    "import cv2\n",
    "import cv\n",
    "import matplotlib.pyplot as plt\n",
    "import pandas as pd \n",
    "from sklearn.metrics import accuracy_score\n",
    "from sklearn.cross_validation import train_test_split\n",
    "from sklearn import svm\n",
    "from sklearn.ensemble import RandomForestClassifier\n",
    "from sklearn.ensemble import AdaBoostClassifier\n",
    "from sklearn.ensemble import ExtraTreesClassifier"
   ]
  },
  {
   "cell_type": "code",
   "execution_count": 4,
   "metadata": {
    "collapsed": false
   },
   "outputs": [
    {
     "data": {
      "text/plain": [
       "(227, 31)"
      ]
     },
     "execution_count": 4,
     "metadata": {},
     "output_type": "execute_result"
    }
   ],
   "source": [
    "df_heavy = pd.read_csv(\"k_30/hist_heavy.csv\")\n",
    "df_heavy.shape"
   ]
  },
  {
   "cell_type": "code",
   "execution_count": 5,
   "metadata": {
    "collapsed": false
   },
   "outputs": [
    {
     "data": {
      "text/plain": [
       "(219, 31)"
      ]
     },
     "execution_count": 5,
     "metadata": {},
     "output_type": "execute_result"
    }
   ],
   "source": [
    "df_medium = pd.read_csv(\"k_30/hist_medium.csv\")\n",
    "df_medium.shape"
   ]
  },
  {
   "cell_type": "code",
   "execution_count": 6,
   "metadata": {
    "collapsed": false
   },
   "outputs": [
    {
     "data": {
      "text/plain": [
       "(853, 31)"
      ]
     },
     "execution_count": 6,
     "metadata": {},
     "output_type": "execute_result"
    }
   ],
   "source": [
    "df_light = pd.read_csv(\"k_30/hist_light.csv\")\n",
    "df_light.shape"
   ]
  },
  {
   "cell_type": "code",
   "execution_count": 7,
   "metadata": {
    "collapsed": true
   },
   "outputs": [],
   "source": [
    "df = pd.concat([df_light,df_medium,df_heavy],ignore_index=True)"
   ]
  },
  {
   "cell_type": "code",
   "execution_count": 8,
   "metadata": {
    "collapsed": true
   },
   "outputs": [],
   "source": [
    "data = df.iloc[np.random.permutation(len(df))]"
   ]
  },
  {
   "cell_type": "code",
   "execution_count": 9,
   "metadata": {
    "collapsed": false
   },
   "outputs": [
    {
     "data": {
      "text/html": [
       "<div style=\"max-height:1000px;max-width:1500px;overflow:auto;\">\n",
       "<table border=\"1\" class=\"dataframe\">\n",
       "  <thead>\n",
       "    <tr style=\"text-align: right;\">\n",
       "      <th></th>\n",
       "      <th>f1</th>\n",
       "      <th>f2</th>\n",
       "      <th>f3</th>\n",
       "      <th>f4</th>\n",
       "      <th>f5</th>\n",
       "      <th>f6</th>\n",
       "      <th>f7</th>\n",
       "      <th>f8</th>\n",
       "      <th>f9</th>\n",
       "      <th>f10</th>\n",
       "      <th>f11</th>\n",
       "      <th>f12</th>\n",
       "      <th>f13</th>\n",
       "      <th>f14</th>\n",
       "      <th>f15</th>\n",
       "      <th>f16</th>\n",
       "      <th>f17</th>\n",
       "      <th>f18</th>\n",
       "      <th>f19</th>\n",
       "      <th>f20</th>\n",
       "      <th></th>\n",
       "    </tr>\n",
       "  </thead>\n",
       "  <tbody>\n",
       "    <tr>\n",
       "      <th>1180</th>\n",
       "      <td> 0.035114</td>\n",
       "      <td> 0.018321</td>\n",
       "      <td> 0.051908</td>\n",
       "      <td> 0.038168</td>\n",
       "      <td> 0.015267</td>\n",
       "      <td> 0.019847</td>\n",
       "      <td> 0.039695</td>\n",
       "      <td> 0.038168</td>\n",
       "      <td> 0.027481</td>\n",
       "      <td> 0.035114</td>\n",
       "      <td> 0.039695</td>\n",
       "      <td> 0.056489</td>\n",
       "      <td> 0.021374</td>\n",
       "      <td> 0.042748</td>\n",
       "      <td> 0.022901</td>\n",
       "      <td> 0.027481</td>\n",
       "      <td> 0.019847</td>\n",
       "      <td> 0.018321</td>\n",
       "      <td> 0.035114</td>\n",
       "      <td> 0.027481</td>\n",
       "      <td>...</td>\n",
       "    </tr>\n",
       "    <tr>\n",
       "      <th>703 </th>\n",
       "      <td> 0.037152</td>\n",
       "      <td> 0.049536</td>\n",
       "      <td> 0.021672</td>\n",
       "      <td> 0.024768</td>\n",
       "      <td> 0.030960</td>\n",
       "      <td> 0.027864</td>\n",
       "      <td> 0.077399</td>\n",
       "      <td> 0.030960</td>\n",
       "      <td> 0.027864</td>\n",
       "      <td> 0.046440</td>\n",
       "      <td> 0.034056</td>\n",
       "      <td> 0.027864</td>\n",
       "      <td> 0.021672</td>\n",
       "      <td> 0.043344</td>\n",
       "      <td> 0.030960</td>\n",
       "      <td> 0.027864</td>\n",
       "      <td> 0.034056</td>\n",
       "      <td> 0.009288</td>\n",
       "      <td> 0.024768</td>\n",
       "      <td> 0.040248</td>\n",
       "      <td>...</td>\n",
       "    </tr>\n",
       "    <tr>\n",
       "      <th>775 </th>\n",
       "      <td> 0.038889</td>\n",
       "      <td> 0.046296</td>\n",
       "      <td> 0.051852</td>\n",
       "      <td> 0.031482</td>\n",
       "      <td> 0.014815</td>\n",
       "      <td> 0.024074</td>\n",
       "      <td> 0.040741</td>\n",
       "      <td> 0.025926</td>\n",
       "      <td> 0.038889</td>\n",
       "      <td> 0.037037</td>\n",
       "      <td> 0.042593</td>\n",
       "      <td> 0.035185</td>\n",
       "      <td> 0.018519</td>\n",
       "      <td> 0.025926</td>\n",
       "      <td> 0.018519</td>\n",
       "      <td> 0.035185</td>\n",
       "      <td> 0.033333</td>\n",
       "      <td> 0.018519</td>\n",
       "      <td> 0.031482</td>\n",
       "      <td> 0.044444</td>\n",
       "      <td>...</td>\n",
       "    </tr>\n",
       "    <tr>\n",
       "      <th>1019</th>\n",
       "      <td> 0.027650</td>\n",
       "      <td> 0.020737</td>\n",
       "      <td> 0.043779</td>\n",
       "      <td> 0.039170</td>\n",
       "      <td> 0.013825</td>\n",
       "      <td> 0.020737</td>\n",
       "      <td> 0.052995</td>\n",
       "      <td> 0.025346</td>\n",
       "      <td> 0.018433</td>\n",
       "      <td> 0.039170</td>\n",
       "      <td> 0.078341</td>\n",
       "      <td> 0.039170</td>\n",
       "      <td> 0.018433</td>\n",
       "      <td> 0.036866</td>\n",
       "      <td> 0.020737</td>\n",
       "      <td> 0.043779</td>\n",
       "      <td> 0.039170</td>\n",
       "      <td> 0.034562</td>\n",
       "      <td> 0.029954</td>\n",
       "      <td> 0.034562</td>\n",
       "      <td>...</td>\n",
       "    </tr>\n",
       "    <tr>\n",
       "      <th>160 </th>\n",
       "      <td> 0.030075</td>\n",
       "      <td> 0.035088</td>\n",
       "      <td> 0.020050</td>\n",
       "      <td> 0.025063</td>\n",
       "      <td> 0.042606</td>\n",
       "      <td> 0.027569</td>\n",
       "      <td> 0.035088</td>\n",
       "      <td> 0.025063</td>\n",
       "      <td> 0.015038</td>\n",
       "      <td> 0.037594</td>\n",
       "      <td> 0.060150</td>\n",
       "      <td> 0.015038</td>\n",
       "      <td> 0.015038</td>\n",
       "      <td> 0.032581</td>\n",
       "      <td> 0.020050</td>\n",
       "      <td> 0.087719</td>\n",
       "      <td> 0.017544</td>\n",
       "      <td> 0.012531</td>\n",
       "      <td> 0.032581</td>\n",
       "      <td> 0.045113</td>\n",
       "      <td>...</td>\n",
       "    </tr>\n",
       "  </tbody>\n",
       "</table>\n",
       "<p>5 rows × 31 columns</p>\n",
       "</div>"
      ],
      "text/plain": [
       "            f1        f2        f3        f4        f5        f6        f7  \\\n",
       "1180  0.035114  0.018321  0.051908  0.038168  0.015267  0.019847  0.039695   \n",
       "703   0.037152  0.049536  0.021672  0.024768  0.030960  0.027864  0.077399   \n",
       "775   0.038889  0.046296  0.051852  0.031482  0.014815  0.024074  0.040741   \n",
       "1019  0.027650  0.020737  0.043779  0.039170  0.013825  0.020737  0.052995   \n",
       "160   0.030075  0.035088  0.020050  0.025063  0.042606  0.027569  0.035088   \n",
       "\n",
       "            f8        f9       f10       f11       f12       f13       f14  \\\n",
       "1180  0.038168  0.027481  0.035114  0.039695  0.056489  0.021374  0.042748   \n",
       "703   0.030960  0.027864  0.046440  0.034056  0.027864  0.021672  0.043344   \n",
       "775   0.025926  0.038889  0.037037  0.042593  0.035185  0.018519  0.025926   \n",
       "1019  0.025346  0.018433  0.039170  0.078341  0.039170  0.018433  0.036866   \n",
       "160   0.025063  0.015038  0.037594  0.060150  0.015038  0.015038  0.032581   \n",
       "\n",
       "           f15       f16       f17       f18       f19       f20      \n",
       "1180  0.022901  0.027481  0.019847  0.018321  0.035114  0.027481 ...  \n",
       "703   0.030960  0.027864  0.034056  0.009288  0.024768  0.040248 ...  \n",
       "775   0.018519  0.035185  0.033333  0.018519  0.031482  0.044444 ...  \n",
       "1019  0.020737  0.043779  0.039170  0.034562  0.029954  0.034562 ...  \n",
       "160   0.020050  0.087719  0.017544  0.012531  0.032581  0.045113 ...  \n",
       "\n",
       "[5 rows x 31 columns]"
      ]
     },
     "execution_count": 9,
     "metadata": {},
     "output_type": "execute_result"
    }
   ],
   "source": [
    "data.head()"
   ]
  },
  {
   "cell_type": "code",
   "execution_count": 10,
   "metadata": {
    "collapsed": true
   },
   "outputs": [],
   "source": [
    "X  = data.ix[:,data.columns != 'label'].values\n",
    "y = data['label'].values"
   ]
  },
  {
   "cell_type": "code",
   "execution_count": 11,
   "metadata": {
    "collapsed": false
   },
   "outputs": [
    {
     "name": "stdout",
     "output_type": "stream",
     "text": [
      "size of train data =  (1039, 30) size of test data =  (260, 30)\n",
      "size of target train data =  (1039,) size of target test data =  (260,)\n"
     ]
    }
   ],
   "source": [
    "X_train, X_test, y_train, y_test = train_test_split(X, y,test_size=0.2, random_state=0)\n",
    "print \"size of train data = \", X_train.shape,\"size of test data = \", X_test.shape\n",
    "print \"size of target train data = \", y_train.shape, \"size of target test data = \",y_test.shape"
   ]
  },
  {
   "cell_type": "code",
   "execution_count": 12,
   "metadata": {
    "collapsed": true
   },
   "outputs": [],
   "source": [
    "clf = svm.SVC()\n",
    "cl = clf.fit(X_train, y_train)\n",
    "y_pred = cl.predict(X_test)"
   ]
  },
  {
   "cell_type": "code",
   "execution_count": 13,
   "metadata": {
    "collapsed": false
   },
   "outputs": [
    {
     "name": "stdout",
     "output_type": "stream",
     "text": [
      "0.642307692308\n"
     ]
    }
   ],
   "source": [
    "score = accuracy_score(y_test, y_pred)\n",
    "print score"
   ]
  },
  {
   "cell_type": "code",
   "execution_count": 14,
   "metadata": {
    "collapsed": false
   },
   "outputs": [
    {
     "name": "stdout",
     "output_type": "stream",
     "text": [
      "0.869230769231\n"
     ]
    }
   ],
   "source": [
    "clf = RandomForestClassifier()\n",
    "cl = clf.fit(X_train, y_train)\n",
    "y_pred = cl.predict(X_test)\n",
    "score = accuracy_score(y_test, y_pred)\n",
    "print score"
   ]
  },
  {
   "cell_type": "code",
   "execution_count": 26,
   "metadata": {
    "collapsed": false
   },
   "outputs": [
    {
     "name": "stdout",
     "output_type": "stream",
     "text": [
      "0.85\n"
     ]
    }
   ],
   "source": [
    "clf = AdaBoostClassifier(n_estimators=30)\n",
    "cl = clf.fit(X_train, y_train)\n",
    "y_pred = cl.predict(X_test)\n",
    "score = accuracy_score(y_test, y_pred)\n",
    "print score"
   ]
  },
  {
   "cell_type": "code",
   "execution_count": 23,
   "metadata": {
    "collapsed": false
   },
   "outputs": [
    {
     "name": "stdout",
     "output_type": "stream",
     "text": [
      "0.915384615385\n"
     ]
    }
   ],
   "source": [
    "clf = ExtraTreesClassifier(n_estimators = 40)\n",
    "cl = clf.fit(X_train, y_train)\n",
    "y_pred = cl.predict(X_test)\n",
    "score = accuracy_score(y_test, y_pred)\n",
    "print score"
   ]
  },
  {
   "cell_type": "code",
   "execution_count": null,
   "metadata": {
    "collapsed": true
   },
   "outputs": [],
   "source": []
  }
 ],
 "metadata": {
  "kernelspec": {
   "display_name": "Python 2",
   "language": "python",
   "name": "python2"
  },
  "language_info": {
   "codemirror_mode": {
    "name": "ipython",
    "version": 2
   },
   "file_extension": ".py",
   "mimetype": "text/x-python",
   "name": "python",
   "nbconvert_exporter": "python",
   "pygments_lexer": "ipython2",
   "version": "2.7.6"
  }
 },
 "nbformat": 4,
 "nbformat_minor": 1
}
