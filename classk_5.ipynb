{
 "cells": [
  {
   "cell_type": "code",
   "execution_count": 127,
   "metadata": {
    "collapsed": true
   },
   "outputs": [],
   "source": [
    "import numpy as np\n",
    "import cv2\n",
    "import cv\n",
    "import matplotlib.pyplot as plt\n",
    "import pandas as pd \n",
    "from sklearn.metrics import accuracy_score\n",
    "from sklearn.cross_validation import train_test_split\n",
    "from sklearn import svm\n",
    "from sklearn.ensemble import RandomForestClassifier\n",
    "from sklearn.ensemble import ExtraTreesClassifier\n",
    "from sklearn.ensemble import AdaBoostClassifier"
   ]
  },
  {
   "cell_type": "code",
   "execution_count": 77,
   "metadata": {
    "collapsed": false
   },
   "outputs": [
    {
     "data": {
      "text/plain": [
       "(227, 5)"
      ]
     },
     "execution_count": 77,
     "metadata": {},
     "output_type": "execute_result"
    }
   ],
   "source": [
    "df_heavy = pd.read_csv(\"k_5/hist_heavy.csv\")\n",
    "df_heavy.shape"
   ]
  },
  {
   "cell_type": "code",
   "execution_count": 59,
   "metadata": {
    "collapsed": false
   },
   "outputs": [
    {
     "data": {
      "text/plain": [
       "(219, 5)"
      ]
     },
     "execution_count": 59,
     "metadata": {},
     "output_type": "execute_result"
    }
   ],
   "source": [
    "df_medium = pd.read_csv(\"k_5/hist_medium.csv\")\n",
    "df_medium.shape"
   ]
  },
  {
   "cell_type": "code",
   "execution_count": 66,
   "metadata": {
    "collapsed": false
   },
   "outputs": [
    {
     "data": {
      "text/plain": [
       "(853, 5)"
      ]
     },
     "execution_count": 66,
     "metadata": {},
     "output_type": "execute_result"
    }
   ],
   "source": [
    "df_light = pd.read_csv(\"k_5/hist_light.csv\")\n",
    "df_light.shape"
   ]
  },
  {
   "cell_type": "code",
   "execution_count": 83,
   "metadata": {
    "collapsed": true
   },
   "outputs": [],
   "source": [
    "df = pd.concat([df_light,df_medium,df_heavy],ignore_index=True)"
   ]
  },
  {
   "cell_type": "code",
   "execution_count": 84,
   "metadata": {
    "collapsed": false
   },
   "outputs": [
    {
     "data": {
      "text/html": [
       "<div style=\"max-height:1000px;max-width:1500px;overflow:auto;\">\n",
       "<table border=\"1\" class=\"dataframe\">\n",
       "  <thead>\n",
       "    <tr style=\"text-align: right;\">\n",
       "      <th></th>\n",
       "      <th>f1</th>\n",
       "      <th>f2</th>\n",
       "      <th>f3</th>\n",
       "      <th>f4</th>\n",
       "      <th>f5</th>\n",
       "      <th>label</th>\n",
       "    </tr>\n",
       "  </thead>\n",
       "  <tbody>\n",
       "    <tr>\n",
       "      <th>1294</th>\n",
       "      <td> 0.132959</td>\n",
       "      <td> 0.235955</td>\n",
       "      <td> 0.205993</td>\n",
       "      <td> 0.286517</td>\n",
       "      <td> 0.138577</td>\n",
       "      <td> 2</td>\n",
       "    </tr>\n",
       "    <tr>\n",
       "      <th>1295</th>\n",
       "      <td> 0.108893</td>\n",
       "      <td> 0.268603</td>\n",
       "      <td> 0.196007</td>\n",
       "      <td> 0.313975</td>\n",
       "      <td> 0.112523</td>\n",
       "      <td> 2</td>\n",
       "    </tr>\n",
       "    <tr>\n",
       "      <th>1296</th>\n",
       "      <td> 0.098246</td>\n",
       "      <td> 0.282456</td>\n",
       "      <td> 0.194737</td>\n",
       "      <td> 0.317544</td>\n",
       "      <td> 0.107018</td>\n",
       "      <td> 2</td>\n",
       "    </tr>\n",
       "    <tr>\n",
       "      <th>1297</th>\n",
       "      <td> 0.122486</td>\n",
       "      <td> 0.265082</td>\n",
       "      <td> 0.221207</td>\n",
       "      <td> 0.270567</td>\n",
       "      <td> 0.120658</td>\n",
       "      <td> 2</td>\n",
       "    </tr>\n",
       "    <tr>\n",
       "      <th>1298</th>\n",
       "      <td> 0.100885</td>\n",
       "      <td> 0.269027</td>\n",
       "      <td> 0.215929</td>\n",
       "      <td> 0.292035</td>\n",
       "      <td> 0.122124</td>\n",
       "      <td> 2</td>\n",
       "    </tr>\n",
       "  </tbody>\n",
       "</table>\n",
       "<p>5 rows × 6 columns</p>\n",
       "</div>"
      ],
      "text/plain": [
       "            f1        f2        f3        f4        f5  label\n",
       "1294  0.132959  0.235955  0.205993  0.286517  0.138577      2\n",
       "1295  0.108893  0.268603  0.196007  0.313975  0.112523      2\n",
       "1296  0.098246  0.282456  0.194737  0.317544  0.107018      2\n",
       "1297  0.122486  0.265082  0.221207  0.270567  0.120658      2\n",
       "1298  0.100885  0.269027  0.215929  0.292035  0.122124      2\n",
       "\n",
       "[5 rows x 6 columns]"
      ]
     },
     "execution_count": 84,
     "metadata": {},
     "output_type": "execute_result"
    }
   ],
   "source": [
    "df.tail()"
   ]
  },
  {
   "cell_type": "code",
   "execution_count": 85,
   "metadata": {
    "collapsed": true
   },
   "outputs": [],
   "source": [
    "data = df.iloc[np.random.permutation(len(df))]"
   ]
  },
  {
   "cell_type": "code",
   "execution_count": 86,
   "metadata": {
    "collapsed": false
   },
   "outputs": [
    {
     "data": {
      "text/html": [
       "<div style=\"max-height:1000px;max-width:1500px;overflow:auto;\">\n",
       "<table border=\"1\" class=\"dataframe\">\n",
       "  <thead>\n",
       "    <tr style=\"text-align: right;\">\n",
       "      <th></th>\n",
       "      <th>f1</th>\n",
       "      <th>f2</th>\n",
       "      <th>f3</th>\n",
       "      <th>f4</th>\n",
       "      <th>f5</th>\n",
       "      <th>label</th>\n",
       "    </tr>\n",
       "  </thead>\n",
       "  <tbody>\n",
       "    <tr>\n",
       "      <th>1056</th>\n",
       "      <td> 0.056035</td>\n",
       "      <td> 0.284483</td>\n",
       "      <td> 0.344828</td>\n",
       "      <td> 0.273707</td>\n",
       "      <td> 0.040948</td>\n",
       "      <td> 1</td>\n",
       "    </tr>\n",
       "    <tr>\n",
       "      <th>1006</th>\n",
       "      <td> 0.140351</td>\n",
       "      <td> 0.219298</td>\n",
       "      <td> 0.201754</td>\n",
       "      <td> 0.286550</td>\n",
       "      <td> 0.152047</td>\n",
       "      <td> 1</td>\n",
       "    </tr>\n",
       "    <tr>\n",
       "      <th>1166</th>\n",
       "      <td> 0.153119</td>\n",
       "      <td> 0.275992</td>\n",
       "      <td> 0.183365</td>\n",
       "      <td> 0.298677</td>\n",
       "      <td> 0.088847</td>\n",
       "      <td> 2</td>\n",
       "    </tr>\n",
       "    <tr>\n",
       "      <th>682 </th>\n",
       "      <td> 0.152778</td>\n",
       "      <td> 0.205556</td>\n",
       "      <td> 0.227778</td>\n",
       "      <td> 0.294444</td>\n",
       "      <td> 0.119444</td>\n",
       "      <td> 0</td>\n",
       "    </tr>\n",
       "    <tr>\n",
       "      <th>524 </th>\n",
       "      <td> 0.132743</td>\n",
       "      <td> 0.144543</td>\n",
       "      <td> 0.292035</td>\n",
       "      <td> 0.271386</td>\n",
       "      <td> 0.159292</td>\n",
       "      <td> 0</td>\n",
       "    </tr>\n",
       "  </tbody>\n",
       "</table>\n",
       "<p>5 rows × 6 columns</p>\n",
       "</div>"
      ],
      "text/plain": [
       "            f1        f2        f3        f4        f5  label\n",
       "1056  0.056035  0.284483  0.344828  0.273707  0.040948      1\n",
       "1006  0.140351  0.219298  0.201754  0.286550  0.152047      1\n",
       "1166  0.153119  0.275992  0.183365  0.298677  0.088847      2\n",
       "682   0.152778  0.205556  0.227778  0.294444  0.119444      0\n",
       "524   0.132743  0.144543  0.292035  0.271386  0.159292      0\n",
       "\n",
       "[5 rows x 6 columns]"
      ]
     },
     "execution_count": 86,
     "metadata": {},
     "output_type": "execute_result"
    }
   ],
   "source": [
    "data.tail()"
   ]
  },
  {
   "cell_type": "code",
   "execution_count": 87,
   "metadata": {
    "collapsed": false
   },
   "outputs": [
    {
     "data": {
      "text/html": [
       "<div style=\"max-height:1000px;max-width:1500px;overflow:auto;\">\n",
       "<table border=\"1\" class=\"dataframe\">\n",
       "  <thead>\n",
       "    <tr style=\"text-align: right;\">\n",
       "      <th></th>\n",
       "      <th>f1</th>\n",
       "      <th>f2</th>\n",
       "      <th>f3</th>\n",
       "      <th>f4</th>\n",
       "      <th>f5</th>\n",
       "      <th>label</th>\n",
       "    </tr>\n",
       "  </thead>\n",
       "  <tbody>\n",
       "    <tr>\n",
       "      <th>840</th>\n",
       "      <td> 0.144928</td>\n",
       "      <td> 0.282609</td>\n",
       "      <td> 0.286232</td>\n",
       "      <td> 0.250000</td>\n",
       "      <td> 0.036232</td>\n",
       "      <td> 0</td>\n",
       "    </tr>\n",
       "    <tr>\n",
       "      <th>967</th>\n",
       "      <td> 0.094675</td>\n",
       "      <td> 0.246548</td>\n",
       "      <td> 0.260355</td>\n",
       "      <td> 0.337278</td>\n",
       "      <td> 0.061144</td>\n",
       "      <td> 1</td>\n",
       "    </tr>\n",
       "    <tr>\n",
       "      <th>654</th>\n",
       "      <td> 0.127854</td>\n",
       "      <td> 0.319635</td>\n",
       "      <td> 0.310502</td>\n",
       "      <td> 0.155251</td>\n",
       "      <td> 0.086758</td>\n",
       "      <td> 0</td>\n",
       "    </tr>\n",
       "    <tr>\n",
       "      <th>533</th>\n",
       "      <td> 0.151515</td>\n",
       "      <td> 0.221445</td>\n",
       "      <td> 0.244755</td>\n",
       "      <td> 0.268065</td>\n",
       "      <td> 0.114219</td>\n",
       "      <td> 0</td>\n",
       "    </tr>\n",
       "    <tr>\n",
       "      <th>495</th>\n",
       "      <td> 0.168734</td>\n",
       "      <td> 0.218362</td>\n",
       "      <td> 0.233251</td>\n",
       "      <td> 0.245658</td>\n",
       "      <td> 0.133995</td>\n",
       "      <td> 0</td>\n",
       "    </tr>\n",
       "  </tbody>\n",
       "</table>\n",
       "<p>5 rows × 6 columns</p>\n",
       "</div>"
      ],
      "text/plain": [
       "           f1        f2        f3        f4        f5  label\n",
       "840  0.144928  0.282609  0.286232  0.250000  0.036232      0\n",
       "967  0.094675  0.246548  0.260355  0.337278  0.061144      1\n",
       "654  0.127854  0.319635  0.310502  0.155251  0.086758      0\n",
       "533  0.151515  0.221445  0.244755  0.268065  0.114219      0\n",
       "495  0.168734  0.218362  0.233251  0.245658  0.133995      0\n",
       "\n",
       "[5 rows x 6 columns]"
      ]
     },
     "execution_count": 87,
     "metadata": {},
     "output_type": "execute_result"
    }
   ],
   "source": [
    "data.head()"
   ]
  },
  {
   "cell_type": "code",
   "execution_count": 100,
   "metadata": {
    "collapsed": false
   },
   "outputs": [],
   "source": [
    "X  = data.ix[:,data.columns != 'label'].values\n",
    "y = data['label'].values"
   ]
  },
  {
   "cell_type": "code",
   "execution_count": 118,
   "metadata": {
    "collapsed": false
   },
   "outputs": [
    {
     "name": "stdout",
     "output_type": "stream",
     "text": [
      "size of train data =  (974, 5) size of test data =  (325, 5)\n",
      "size of target train data =  (974,) size of target test data =  (325,)\n"
     ]
    }
   ],
   "source": [
    "X_train, X_test, y_train, y_test = train_test_split(X, y, random_state=3)\n",
    "print \"size of train data = \", X_train.shape,\"size of test data = \", X_test.shape\n",
    "print \"size of target train data = \", y_train.shape, \"size of target test data = \",y_test.shape"
   ]
  },
  {
   "cell_type": "code",
   "execution_count": 119,
   "metadata": {
    "collapsed": true
   },
   "outputs": [],
   "source": [
    "clf = svm.SVC()\n",
    "cl = clf.fit(X_train, y_train)\n",
    "y_pred = cl.predict(X_test)"
   ]
  },
  {
   "cell_type": "code",
   "execution_count": 120,
   "metadata": {
    "collapsed": false
   },
   "outputs": [
    {
     "name": "stdout",
     "output_type": "stream",
     "text": [
      "0.68\n"
     ]
    }
   ],
   "source": [
    "score = accuracy_score(y_test, y_pred)\n",
    "print score"
   ]
  },
  {
   "cell_type": "code",
   "execution_count": 122,
   "metadata": {
    "collapsed": false
   },
   "outputs": [
    {
     "name": "stdout",
     "output_type": "stream",
     "text": [
      "0.821538461538\n"
     ]
    }
   ],
   "source": [
    "clf = RandomForestClassifier()\n",
    "cl = clf.fit(X_train, y_train)\n",
    "y_pred = cl.predict(X_test)\n",
    "score = accuracy_score(y_test, y_pred)\n",
    "print score"
   ]
  },
  {
   "cell_type": "code",
   "execution_count": 128,
   "metadata": {
    "collapsed": false
   },
   "outputs": [
    {
     "name": "stdout",
     "output_type": "stream",
     "text": [
      "0.815384615385\n"
     ]
    }
   ],
   "source": [
    "clf = AdaBoostClassifier(n_estimators=30)\n",
    "cl = clf.fit(X_train, y_train)\n",
    "y_pred = cl.predict(X_test)\n",
    "score = accuracy_score(y_test, y_pred)\n",
    "print score"
   ]
  },
  {
   "cell_type": "code",
   "execution_count": 126,
   "metadata": {
    "collapsed": false
   },
   "outputs": [
    {
     "name": "stdout",
     "output_type": "stream",
     "text": [
      "0.830769230769\n"
     ]
    }
   ],
   "source": [
    "clf = ExtraTreesClassifier(n_estimators = 40)\n",
    "cl = clf.fit(X_train, y_train)\n",
    "y_pred = cl.predict(X_test)\n",
    "score = accuracy_score(y_test, y_pred)\n",
    "print score"
   ]
  },
  {
   "cell_type": "code",
   "execution_count": null,
   "metadata": {
    "collapsed": true
   },
   "outputs": [],
   "source": []
  }
 ],
 "metadata": {
  "kernelspec": {
   "display_name": "Python 2",
   "language": "python",
   "name": "python2"
  },
  "language_info": {
   "codemirror_mode": {
    "name": "ipython",
    "version": 2
   },
   "file_extension": ".py",
   "mimetype": "text/x-python",
   "name": "python",
   "nbconvert_exporter": "python",
   "pygments_lexer": "ipython2",
   "version": "2.7.6"
  }
 },
 "nbformat": 4,
 "nbformat_minor": 1
}
