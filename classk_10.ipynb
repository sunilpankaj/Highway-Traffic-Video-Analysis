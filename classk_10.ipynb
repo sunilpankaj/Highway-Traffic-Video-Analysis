{
 "cells": [
  {
   "cell_type": "code",
   "execution_count": 30,
   "metadata": {
    "collapsed": true
   },
   "outputs": [],
   "source": [
    "import numpy as np\n",
    "import cv2\n",
    "import cv\n",
    "import matplotlib.pyplot as plt\n",
    "import pandas as pd \n",
    "from sklearn.metrics import accuracy_score\n",
    "from sklearn.cross_validation import train_test_split\n",
    "from sklearn import svm\n",
    "from sklearn.ensemble import RandomForestClassifier\n",
    "from sklearn.ensemble import ExtraTreesClassifier\n",
    "from sklearn.ensemble import AdaBoostClassifier"
   ]
  },
  {
   "cell_type": "code",
   "execution_count": 2,
   "metadata": {
    "collapsed": false
   },
   "outputs": [
    {
     "data": {
      "text/plain": [
       "(227, 11)"
      ]
     },
     "execution_count": 2,
     "metadata": {},
     "output_type": "execute_result"
    }
   ],
   "source": [
    "df_heavy = pd.read_csv(\"k_10/hist_heavy.csv\")\n",
    "df_heavy.shape"
   ]
  },
  {
   "cell_type": "code",
   "execution_count": 3,
   "metadata": {
    "collapsed": false
   },
   "outputs": [
    {
     "data": {
      "text/plain": [
       "(219, 11)"
      ]
     },
     "execution_count": 3,
     "metadata": {},
     "output_type": "execute_result"
    }
   ],
   "source": [
    "df_medium = pd.read_csv(\"k_10/hist_medium.csv\")\n",
    "df_medium.shape"
   ]
  },
  {
   "cell_type": "code",
   "execution_count": 4,
   "metadata": {
    "collapsed": false
   },
   "outputs": [
    {
     "data": {
      "text/plain": [
       "(853, 11)"
      ]
     },
     "execution_count": 4,
     "metadata": {},
     "output_type": "execute_result"
    }
   ],
   "source": [
    "df_light = pd.read_csv(\"k_10/hist_light.csv\")\n",
    "df_light.shape"
   ]
  },
  {
   "cell_type": "code",
   "execution_count": 5,
   "metadata": {
    "collapsed": true
   },
   "outputs": [],
   "source": [
    "df = pd.concat([df_light,df_medium,df_heavy],ignore_index=True)"
   ]
  },
  {
   "cell_type": "code",
   "execution_count": 6,
   "metadata": {
    "collapsed": true
   },
   "outputs": [],
   "source": [
    "data = df.iloc[np.random.permutation(len(df))]"
   ]
  },
  {
   "cell_type": "code",
   "execution_count": 7,
   "metadata": {
    "collapsed": false
   },
   "outputs": [
    {
     "data": {
      "text/html": [
       "<div style=\"max-height:1000px;max-width:1500px;overflow:auto;\">\n",
       "<table border=\"1\" class=\"dataframe\">\n",
       "  <thead>\n",
       "    <tr style=\"text-align: right;\">\n",
       "      <th></th>\n",
       "      <th>f1</th>\n",
       "      <th>f2</th>\n",
       "      <th>f3</th>\n",
       "      <th>f4</th>\n",
       "      <th>f5</th>\n",
       "      <th>f6</th>\n",
       "      <th>f7</th>\n",
       "      <th>f8</th>\n",
       "      <th>f9</th>\n",
       "      <th>f10</th>\n",
       "      <th>label</th>\n",
       "    </tr>\n",
       "  </thead>\n",
       "  <tbody>\n",
       "    <tr>\n",
       "      <th>214 </th>\n",
       "      <td> 0.198992</td>\n",
       "      <td> 0.083123</td>\n",
       "      <td> 0.078086</td>\n",
       "      <td> 0.065491</td>\n",
       "      <td> 0.095718</td>\n",
       "      <td> 0.060453</td>\n",
       "      <td> 0.083123</td>\n",
       "      <td> 0.120907</td>\n",
       "      <td> 0.090680</td>\n",
       "      <td> 0.123426</td>\n",
       "      <td> 0</td>\n",
       "    </tr>\n",
       "    <tr>\n",
       "      <th>1150</th>\n",
       "      <td> 0.157895</td>\n",
       "      <td> 0.114338</td>\n",
       "      <td> 0.076225</td>\n",
       "      <td> 0.087114</td>\n",
       "      <td> 0.094374</td>\n",
       "      <td> 0.081670</td>\n",
       "      <td> 0.092559</td>\n",
       "      <td> 0.074410</td>\n",
       "      <td> 0.143376</td>\n",
       "      <td> 0.078040</td>\n",
       "      <td> 2</td>\n",
       "    </tr>\n",
       "    <tr>\n",
       "      <th>389 </th>\n",
       "      <td> 0.211679</td>\n",
       "      <td> 0.076642</td>\n",
       "      <td> 0.102190</td>\n",
       "      <td> 0.058394</td>\n",
       "      <td> 0.076642</td>\n",
       "      <td> 0.094891</td>\n",
       "      <td> 0.072993</td>\n",
       "      <td> 0.120438</td>\n",
       "      <td> 0.105839</td>\n",
       "      <td> 0.080292</td>\n",
       "      <td> 0</td>\n",
       "    </tr>\n",
       "    <tr>\n",
       "      <th>811 </th>\n",
       "      <td> 0.177083</td>\n",
       "      <td> 0.083333</td>\n",
       "      <td> 0.121528</td>\n",
       "      <td> 0.052083</td>\n",
       "      <td> 0.090278</td>\n",
       "      <td> 0.121528</td>\n",
       "      <td> 0.093750</td>\n",
       "      <td> 0.100694</td>\n",
       "      <td> 0.100694</td>\n",
       "      <td> 0.059028</td>\n",
       "      <td> 0</td>\n",
       "    </tr>\n",
       "    <tr>\n",
       "      <th>972 </th>\n",
       "      <td> 0.192308</td>\n",
       "      <td> 0.084615</td>\n",
       "      <td> 0.090385</td>\n",
       "      <td> 0.148077</td>\n",
       "      <td> 0.090385</td>\n",
       "      <td> 0.103846</td>\n",
       "      <td> 0.086539</td>\n",
       "      <td> 0.057692</td>\n",
       "      <td> 0.113462</td>\n",
       "      <td> 0.032692</td>\n",
       "      <td> 1</td>\n",
       "    </tr>\n",
       "  </tbody>\n",
       "</table>\n",
       "<p>5 rows × 11 columns</p>\n",
       "</div>"
      ],
      "text/plain": [
       "            f1        f2        f3        f4        f5        f6        f7  \\\n",
       "214   0.198992  0.083123  0.078086  0.065491  0.095718  0.060453  0.083123   \n",
       "1150  0.157895  0.114338  0.076225  0.087114  0.094374  0.081670  0.092559   \n",
       "389   0.211679  0.076642  0.102190  0.058394  0.076642  0.094891  0.072993   \n",
       "811   0.177083  0.083333  0.121528  0.052083  0.090278  0.121528  0.093750   \n",
       "972   0.192308  0.084615  0.090385  0.148077  0.090385  0.103846  0.086539   \n",
       "\n",
       "            f8        f9       f10  label  \n",
       "214   0.120907  0.090680  0.123426      0  \n",
       "1150  0.074410  0.143376  0.078040      2  \n",
       "389   0.120438  0.105839  0.080292      0  \n",
       "811   0.100694  0.100694  0.059028      0  \n",
       "972   0.057692  0.113462  0.032692      1  \n",
       "\n",
       "[5 rows x 11 columns]"
      ]
     },
     "execution_count": 7,
     "metadata": {},
     "output_type": "execute_result"
    }
   ],
   "source": [
    "data.head()"
   ]
  },
  {
   "cell_type": "code",
   "execution_count": 8,
   "metadata": {
    "collapsed": true
   },
   "outputs": [],
   "source": [
    "X  = data.ix[:,data.columns != 'label'].values\n",
    "y = data['label'].values"
   ]
  },
  {
   "cell_type": "code",
   "execution_count": 21,
   "metadata": {
    "collapsed": false
   },
   "outputs": [
    {
     "name": "stdout",
     "output_type": "stream",
     "text": [
      "size of train data =  (1039, 10) size of test data =  (260, 10)\n",
      "size of target train data =  (1039,) size of target test data =  (260,)\n"
     ]
    }
   ],
   "source": [
    "X_train, X_test, y_train, y_test = train_test_split(X, y,test_size=0.2, random_state=0)\n",
    "print \"size of train data = \", X_train.shape,\"size of test data = \", X_test.shape\n",
    "print \"size of target train data = \", y_train.shape, \"size of target test data = \",y_test.shape"
   ]
  },
  {
   "cell_type": "code",
   "execution_count": 22,
   "metadata": {
    "collapsed": true
   },
   "outputs": [],
   "source": [
    "clf = svm.SVC()\n",
    "cl = clf.fit(X_train, y_train)\n",
    "y_pred = cl.predict(X_test)"
   ]
  },
  {
   "cell_type": "code",
   "execution_count": 23,
   "metadata": {
    "collapsed": false
   },
   "outputs": [
    {
     "name": "stdout",
     "output_type": "stream",
     "text": [
      "0.680769230769\n"
     ]
    }
   ],
   "source": [
    "score = accuracy_score(y_test, y_pred)\n",
    "print score"
   ]
  },
  {
   "cell_type": "code",
   "execution_count": 26,
   "metadata": {
    "collapsed": false
   },
   "outputs": [
    {
     "name": "stdout",
     "output_type": "stream",
     "text": [
      "0.861538461538\n"
     ]
    }
   ],
   "source": [
    "clf = RandomForestClassifier()\n",
    "cl = clf.fit(X_train, y_train)\n",
    "y_pred = cl.predict(X_test)\n",
    "score = accuracy_score(y_test, y_pred)\n",
    "print score"
   ]
  },
  {
   "cell_type": "code",
   "execution_count": 31,
   "metadata": {
    "collapsed": false
   },
   "outputs": [
    {
     "name": "stdout",
     "output_type": "stream",
     "text": [
      "0.819230769231\n"
     ]
    }
   ],
   "source": [
    "clf = AdaBoostClassifier(n_estimators=30)\n",
    "cl = clf.fit(X_train, y_train)\n",
    "y_pred = cl.predict(X_test)\n",
    "score = accuracy_score(y_test, y_pred)\n",
    "print score"
   ]
  },
  {
   "cell_type": "code",
   "execution_count": 29,
   "metadata": {
    "collapsed": false
   },
   "outputs": [
    {
     "name": "stdout",
     "output_type": "stream",
     "text": [
      "0.888461538462\n"
     ]
    }
   ],
   "source": [
    "clf = ExtraTreesClassifier(n_estimators = 30)\n",
    "cl = clf.fit(X_train, y_train)\n",
    "y_pred = cl.predict(X_test)\n",
    "score = accuracy_score(y_test, y_pred)\n",
    "print score"
   ]
  },
  {
   "cell_type": "code",
   "execution_count": null,
   "metadata": {
    "collapsed": true
   },
   "outputs": [],
   "source": []
  }
 ],
 "metadata": {
  "kernelspec": {
   "display_name": "Python 2",
   "language": "python",
   "name": "python2"
  },
  "language_info": {
   "codemirror_mode": {
    "name": "ipython",
    "version": 2
   },
   "file_extension": ".py",
   "mimetype": "text/x-python",
   "name": "python",
   "nbconvert_exporter": "python",
   "pygments_lexer": "ipython2",
   "version": "2.7.6"
  }
 },
 "nbformat": 4,
 "nbformat_minor": 1
}
